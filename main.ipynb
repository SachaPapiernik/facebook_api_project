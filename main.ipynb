{
 "cells": [
  {
   "cell_type": "code",
   "execution_count": 4,
   "metadata": {},
   "outputs": [],
   "source": [
    "import fastapi"
   ]
  },
  {
   "cell_type": "code",
   "execution_count": 2,
   "metadata": {},
   "outputs": [
    {
     "name": "stdout",
     "output_type": "stream",
     "text": [
      "a\n"
     ]
    }
   ],
   "source": [
    "print(\"a\")"
   ]
  },
  {
   "cell_type": "code",
   "execution_count": 18,
   "metadata": {},
   "outputs": [
    {
     "name": "stdout",
     "output_type": "stream",
     "text": [
      "500\n",
      "Internal Server Error\n"
     ]
    }
   ],
   "source": [
    "import requests\n",
    "\n",
    "# Assuming your FastAPI server is running on http://127.0.0.1:8000\n",
    "base_url = \"http://127.0.0.1:8000\"\n",
    "event_id = 1  # Replace with the actual event ID\n",
    "\n",
    "# URL for the PUT request\n",
    "url = f\"{base_url}/events/{event_id}\"\n",
    "\n",
    "# Event data to update (including the ID)\n",
    "event_data = {\n",
    "    \"name\": \"Updated Event\",\n",
    "}\n",
    "\n",
    "# Make the PUT request\n",
    "response = requests.put(url, json=event_data)\n",
    "\n",
    "# Print the raw response\n",
    "print(response.status_code)\n",
    "print(response.text)"
   ]
  },
  {
   "cell_type": "code",
   "execution_count": 23,
   "metadata": {},
   "outputs": [],
   "source": [
    "import json\n",
    "\n",
    "def add_event(events, timestamp, description):\n",
    "    if not events:\n",
    "        events = []\n",
    "\n",
    "    last_id = 0 if not events else max(event[\"id\"] for event in events)\n",
    "    new_id = last_id + 1\n",
    "    new_event = {\"id\": new_id, \"timestamp\": timestamp, \"description\": description}\n",
    "    events.append(new_event)\n",
    "\n",
    "    return events\n",
    "\n",
    "file_path = \"events.json\"\n",
    "\n",
    "try:\n",
    "    # Check if the file exists and is not empty\n",
    "    with open(file_path, \"r\") as file:\n",
    "        file_content = file.read()\n",
    "        if not file_content:\n",
    "            existing_events = []\n",
    "        else:\n",
    "            existing_events = json.loads(file_content)\n",
    "except FileNotFoundError:\n",
    "    existing_events = []\n",
    "\n",
    "new_timestamp = \"2023-11-25T10:00:00\"\n",
    "new_description = \"Event 3 description\"\n",
    "existing_events = add_event(existing_events, new_timestamp, new_description)\n",
    "\n",
    "# Save the updated events back to the file\n",
    "with open(file_path, \"w\") as file:\n",
    "    json.dump(existing_events, file, indent=2)"
   ]
  },
  {
   "cell_type": "code",
   "execution_count": 22,
   "metadata": {},
   "outputs": [
    {
     "ename": "NameError",
     "evalue": "name 'last_id' is not defined",
     "output_type": "error",
     "traceback": [
      "\u001b[1;31m---------------------------------------------------------------------------\u001b[0m",
      "\u001b[1;31mNameError\u001b[0m                                 Traceback (most recent call last)",
      "\u001b[1;32mc:\\Users\\Galir\\Documents\\facebook_api_project\\main.ipynb Cell 5\u001b[0m line \u001b[0;36m1\n\u001b[1;32m----> <a href='vscode-notebook-cell:/c%3A/Users/Galir/Documents/facebook_api_project/main.ipynb#W4sZmlsZQ%3D%3D?line=0'>1</a>\u001b[0m last_id\n",
      "\u001b[1;31mNameError\u001b[0m: name 'last_id' is not defined"
     ]
    }
   ],
   "source": [
    "last_id"
   ]
  },
  {
   "cell_type": "code",
   "execution_count": 45,
   "metadata": {},
   "outputs": [],
   "source": [
    "import json\n",
    "import os\n",
    "\n",
    "def create_environment_file(file_path):\n",
    "\n",
    "    # Check if the file already exists\n",
    "    if not os.path.exists(file_path):\n",
    "        # If it doesn't exist, create it with the initial dictionary\n",
    "        initial_data = {\n",
    "            \"id_event\": 0\n",
    "            \"id_people\":0}\n",
    "\n",
    "        with open(file_path, 'w') as json_file:\n",
    "            json.dump(initial_data, json_file, indent=4)\n",
    "        \n",
    "        print(f'The \"{file_path}\" file has been created with the initial data.')\n",
    "\n",
    "def increment_id_event(file_path = \"environnement.json\"):\n",
    "\n",
    "    # Check if the file exists\n",
    "    if os.path.exists(file_path):\n",
    "        # Load the existing data from the file\n",
    "        with open(file_path, 'r') as json_file:\n",
    "            data = json.load(json_file)\n",
    "        \n",
    "        # Increment the value associated with the \"id_event\" key\n",
    "        data[\"id_event\"] += 1\n",
    "\n",
    "        # Save the updated data back to the file\n",
    "        with open(file_path, 'w') as json_file:\n",
    "            json.dump(data, json_file, indent=4)\n",
    "    else:\n",
    "        create_environment_file(file_path)\n",
    "        increment_id_event(file_path)"
   ]
  },
  {
   "cell_type": "code",
   "execution_count": 46,
   "metadata": {},
   "outputs": [
    {
     "name": "stdout",
     "output_type": "stream",
     "text": [
      "The \"environnement.json\" file has been created with the initial data.\n"
     ]
    }
   ],
   "source": [
    "increment_id_event()"
   ]
  },
  {
   "cell_type": "code",
   "execution_count": 40,
   "metadata": {},
   "outputs": [],
   "source": [
    "increment_id_event()"
   ]
  },
  {
   "cell_type": "code",
   "execution_count": null,
   "metadata": {},
   "outputs": [],
   "source": []
  }
 ],
 "metadata": {
  "kernelspec": {
   "display_name": "Python 3",
   "language": "python",
   "name": "python3"
  },
  "language_info": {
   "codemirror_mode": {
    "name": "ipython",
    "version": 3
   },
   "file_extension": ".py",
   "mimetype": "text/x-python",
   "name": "python",
   "nbconvert_exporter": "python",
   "pygments_lexer": "ipython3",
   "version": "3.10.0"
  }
 },
 "nbformat": 4,
 "nbformat_minor": 2
}
