{
 "cells": [
  {
   "cell_type": "code",
   "execution_count": 71,
   "metadata": {},
   "outputs": [],
   "source": [
    "import json\n",
    "import os\n",
    "\n",
    "def create_environment_file(file_path):\n",
    "\n",
    "    # Check if the file already exists\n",
    "    if not os.path.exists(file_path):\n",
    "        # If it doesn't exist, create it with the initial dictionary\n",
    "        initial_data = {\n",
    "            \"id_event\": 0,\n",
    "            \"id_people\":0\n",
    "            }\n",
    "\n",
    "        with open(file_path, 'w') as json_file:\n",
    "            json.dump(initial_data, json_file, indent=4)\n",
    "        \n",
    "        print(f'The \"{file_path}\" file has been created with the initial data.')"
   ]
  },
  {
   "cell_type": "code",
   "execution_count": 75,
   "metadata": {},
   "outputs": [],
   "source": [
    "import json\n",
    "\n",
    "def add_event(event_name, main_file_path='environnement.json', event_file_path='event.json'):\n",
    "    # Load main.json to get the current event_id\n",
    "    with open(main_file_path, 'r') as main_file:\n",
    "        main_data = json.load(main_file)\n",
    "        id_i = f'id_{event_name}'\n",
    "        current_event_id = main_data.get(id_i, 0)\n",
    "\n",
    "    # Increment event_id for the new event\n",
    "    current_event_id += 1\n",
    "\n",
    "    # Update main.json with the new event_id\n",
    "    with open(main_file_path, 'w') as main_file:\n",
    "        main_data[id_i] = current_event_id\n",
    "        json.dump(main_data, main_file, indent=2)\n",
    "\n",
    "    # Create the event data\n",
    "    event_data = {'id': current_event_id, 'name': event_name}\n",
    "\n",
    "    # Load existing events from event.json\n",
    "    try:\n",
    "        with open(event_file_path, 'r') as event_file:\n",
    "            events = json.load(event_file)\n",
    "    except FileNotFoundError:\n",
    "        # If the file doesn't exist, create an empty list\n",
    "        events = []\n",
    "\n",
    "    # Add the new event to the list\n",
    "    events.append(event_data)\n",
    "\n",
    "    # Update event.json with the new events\n",
    "    with open(event_file_path, 'w') as event_file:\n",
    "        json.dump(events, event_file, indent=2)\n",
    "\n",
    "# Example usage:\n",
    "add_event('Birthday Party')\n"
   ]
  },
  {
   "cell_type": "code",
   "execution_count": 76,
   "metadata": {},
   "outputs": [
    {
     "name": "stdout",
     "output_type": "stream",
     "text": [
      "The \"environnement.json\" file has been created with the initial data.\n"
     ]
    }
   ],
   "source": [
    "create_environment_file('environnement.json')"
   ]
  },
  {
   "cell_type": "code",
   "execution_count": 79,
   "metadata": {},
   "outputs": [],
   "source": [
    "add_event('id_people')"
   ]
  },
  {
   "cell_type": "code",
   "execution_count": null,
   "metadata": {},
   "outputs": [],
   "source": []
  }
 ],
 "metadata": {
  "kernelspec": {
   "display_name": "Python 3",
   "language": "python",
   "name": "python3"
  },
  "language_info": {
   "codemirror_mode": {
    "name": "ipython",
    "version": 3
   },
   "file_extension": ".py",
   "mimetype": "text/x-python",
   "name": "python",
   "nbconvert_exporter": "python",
   "pygments_lexer": "ipython3",
   "version": "3.10.0"
  }
 },
 "nbformat": 4,
 "nbformat_minor": 2
}
